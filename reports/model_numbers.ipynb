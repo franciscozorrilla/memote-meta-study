{
  "cells": [
    {
      "cell_type": "markdown",
      "source": [
        "# Number of Models per Collection"
      ],
      "metadata": {}
    },
    {
      "cell_type": "code",
      "source": [
        "import pandas as pd"
      ],
      "outputs": [],
      "execution_count": 1,
      "metadata": {}
    },
    {
      "cell_type": "markdown",
      "source": [
        "## Extract"
      ],
      "metadata": {}
    },
    {
      "cell_type": "code",
      "source": [
        "bucket = []\n",
        "for filename, collection in [\n",
        "    (\"../data/bigg.csv.gz\", \"bigg\"),\n",
        "    (\"../data/uminho.csv.gz\", \"uminho\"),\n",
        "    (\"../data/mmodel.csv.gz\", \"ebrahim\"),\n",
        "    (\"../data/metagem.csv.gz\", \"metagem\"),\n",
        "    (\"../data/agora.csv.gz\", \"agora\"),\n",
        "    (\"../data/embl_gems.csv.gz\", \"embl\"),\n",
        "    (\"../data/path2models.csv.gz\", \"path\"),\n",
        "    (\"../data/seed.csv.gz\", \"seed\"),\n",
        "]:\n",
        "    tmp = pd.read_csv(filename)\n",
        "    tmp[\"collection\"] = collection\n",
        "    bucket.append(tmp)\n",
        "df = pd.concat(bucket, ignore_index=True)"
      ],
      "outputs": [],
      "execution_count": 2,
      "metadata": {}
    },
    {
      "cell_type": "code",
      "source": [
        "df.head()"
      ],
      "outputs": [
        {
          "output_type": "execute_result",
          "execution_count": 3,
          "data": {
            "text/html": [
              "<div>\n",
              "<style scoped>\n",
              "    .dataframe tbody tr th:only-of-type {\n",
              "        vertical-align: middle;\n",
              "    }\n",
              "\n",
              "    .dataframe tbody tr th {\n",
              "        vertical-align: top;\n",
              "    }\n",
              "\n",
              "    .dataframe thead th {\n",
              "        text-align: right;\n",
              "    }\n",
              "</style>\n",
              "<table border=\"1\" class=\"dataframe\">\n",
              "  <thead>\n",
              "    <tr style=\"text-align: right;\">\n",
              "      <th></th>\n",
              "      <th>test</th>\n",
              "      <th>title</th>\n",
              "      <th>section</th>\n",
              "      <th>metric</th>\n",
              "      <th>numeric</th>\n",
              "      <th>model</th>\n",
              "      <th>time</th>\n",
              "      <th>collection</th>\n",
              "    </tr>\n",
              "  </thead>\n",
              "  <tbody>\n",
              "    <tr>\n",
              "      <th>0</th>\n",
              "      <td>test_absolute_extreme_coefficient_ratio</td>\n",
              "      <td>Ratio Min/Max Non-Zero Coefficients</td>\n",
              "      <td>matrix</td>\n",
              "      <td>0.0</td>\n",
              "      <td>NaN</td>\n",
              "      <td>iE2348C_1286</td>\n",
              "      <td>0.046556</td>\n",
              "      <td>bigg</td>\n",
              "    </tr>\n",
              "    <tr>\n",
              "      <th>1</th>\n",
              "      <td>test_biomass_consistency</td>\n",
              "      <td>Biomass Consistency</td>\n",
              "      <td>test_biomass</td>\n",
              "      <td>0.0</td>\n",
              "      <td>0.999658</td>\n",
              "      <td>iE2348C_1286</td>\n",
              "      <td>0.000978</td>\n",
              "      <td>bigg</td>\n",
              "    </tr>\n",
              "    <tr>\n",
              "      <th>2</th>\n",
              "      <td>test_biomass_consistency</td>\n",
              "      <td>Biomass Consistency</td>\n",
              "      <td>test_biomass</td>\n",
              "      <td>0.0</td>\n",
              "      <td>0.999994</td>\n",
              "      <td>iE2348C_1286</td>\n",
              "      <td>0.000775</td>\n",
              "      <td>bigg</td>\n",
              "    </tr>\n",
              "    <tr>\n",
              "      <th>3</th>\n",
              "      <td>test_biomass_default_production</td>\n",
              "      <td>Biomass Production In Default Medium</td>\n",
              "      <td>test_biomass</td>\n",
              "      <td>1.0</td>\n",
              "      <td>0.000000</td>\n",
              "      <td>iE2348C_1286</td>\n",
              "      <td>0.006497</td>\n",
              "      <td>bigg</td>\n",
              "    </tr>\n",
              "    <tr>\n",
              "      <th>4</th>\n",
              "      <td>test_biomass_default_production</td>\n",
              "      <td>Biomass Production In Default Medium</td>\n",
              "      <td>test_biomass</td>\n",
              "      <td>0.0</td>\n",
              "      <td>0.982478</td>\n",
              "      <td>iE2348C_1286</td>\n",
              "      <td>0.739684</td>\n",
              "      <td>bigg</td>\n",
              "    </tr>\n",
              "  </tbody>\n",
              "</table>\n",
              "</div>"
            ],
            "text/plain": [
              "                                      test  \\\n",
              "0  test_absolute_extreme_coefficient_ratio   \n",
              "1                 test_biomass_consistency   \n",
              "2                 test_biomass_consistency   \n",
              "3          test_biomass_default_production   \n",
              "4          test_biomass_default_production   \n",
              "\n",
              "                                  title       section  metric   numeric  \\\n",
              "0   Ratio Min/Max Non-Zero Coefficients        matrix     0.0       NaN   \n",
              "1                   Biomass Consistency  test_biomass     0.0  0.999658   \n",
              "2                   Biomass Consistency  test_biomass     0.0  0.999994   \n",
              "3  Biomass Production In Default Medium  test_biomass     1.0  0.000000   \n",
              "4  Biomass Production In Default Medium  test_biomass     0.0  0.982478   \n",
              "\n",
              "          model      time collection  \n",
              "0  iE2348C_1286  0.046556       bigg  \n",
              "1  iE2348C_1286  0.000978       bigg  \n",
              "2  iE2348C_1286  0.000775       bigg  \n",
              "3  iE2348C_1286  0.006497       bigg  \n",
              "4  iE2348C_1286  0.739684       bigg  "
            ]
          },
          "metadata": {}
        }
      ],
      "execution_count": 3,
      "metadata": {}
    },
    {
      "cell_type": "code",
      "source": [
        "df.groupby(\"collection\", sort=False).model.nunique()"
      ],
      "outputs": [
        {
          "output_type": "execute_result",
          "execution_count": 4,
          "data": {
            "text/plain": [
              "collection\n",
              "bigg         84\n",
              "uminho       79\n",
              "ebrahim      80\n",
              "agora       801\n",
              "embl       5511\n",
              "path       2641\n",
              "seed       1632\n",
              "Name: model, dtype: int64"
            ]
          },
          "metadata": {}
        }
      ],
      "execution_count": 4,
      "metadata": {}
    },
    {
      "cell_type": "code",
      "source": [
        "strains = pd.read_csv(\"../data/bigg/organism.csv.gz\")"
      ],
      "outputs": [],
      "execution_count": 5,
      "metadata": {}
    },
    {
      "cell_type": "code",
      "source": [
        "strains.strain.str.startswith(\"Escherichia coli\").sum()"
      ],
      "outputs": [
        {
          "output_type": "execute_result",
          "execution_count": 6,
          "data": {
            "text/plain": [
              "52"
            ]
          },
          "metadata": {}
        }
      ],
      "execution_count": 6,
      "metadata": {}
    },
    {
      "cell_type": "code",
      "source": [
        "84 - 52 + 4"
      ],
      "outputs": [
        {
          "output_type": "execute_result",
          "execution_count": 7,
          "data": {
            "text/plain": [
              "36"
            ]
          },
          "metadata": {}
        }
      ],
      "execution_count": 7,
      "metadata": {}
    }
  ],
  "metadata": {
    "kernelspec": {
      "display_name": "Python 3",
      "language": "python",
      "name": "python3"
    },
    "language_info": {
      "codemirror_mode": {
        "name": "ipython",
        "version": 3
      },
      "file_extension": ".py",
      "mimetype": "text/x-python",
      "name": "python",
      "nbconvert_exporter": "python",
      "pygments_lexer": "ipython3",
      "version": "3.6.7"
    },
    "toc": {
      "toc_position": {},
      "skip_h1_title": true,
      "number_sections": false,
      "title_cell": "Table of Contents",
      "toc_window_display": true,
      "base_numbering": 1,
      "toc_section_display": true,
      "title_sidebar": "Table of Contents",
      "toc_cell": false,
      "nav_menu": {},
      "sideBar": true
    },
    "nteract": {
      "version": "0.12.3"
    }
  },
  "nbformat": 4,
  "nbformat_minor": 2
}